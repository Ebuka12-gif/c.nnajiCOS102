{
 "cells": [
  {
   "cell_type": "code",
   "execution_count": 13,
   "id": "c3b459e8-5f01-49f2-9730-c30301dd7b30",
   "metadata": {},
   "outputs": [
    {
     "name": "stdout",
     "output_type": "stream",
     "text": [
      "My string\n"
     ]
    }
   ],
   "source": [
    "def printme ( str ):\n",
    "    #This prints a passed string\n",
    "    print (str);\n",
    "    return;\n",
    "printme( str = \"My string\");"
   ]
  },
  {
   "cell_type": "code",
   "execution_count": null,
   "id": "80bab2ce-a0aa-4fb5-aa35-f39b69ef1c44",
   "metadata": {},
   "outputs": [],
   "source": []
  }
 ],
 "metadata": {
  "kernelspec": {
   "display_name": "Python 3 (ipykernel)",
   "language": "python",
   "name": "python3"
  },
  "language_info": {
   "codemirror_mode": {
    "name": "ipython",
    "version": 3
   },
   "file_extension": ".py",
   "mimetype": "text/x-python",
   "name": "python",
   "nbconvert_exporter": "python",
   "pygments_lexer": "ipython3",
   "version": "3.11.7"
  }
 },
 "nbformat": 4,
 "nbformat_minor": 5
}
