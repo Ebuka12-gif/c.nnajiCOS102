{
 "cells": [
  {
   "cell_type": "code",
   "execution_count": 12,
   "id": "28c08b7e-a037-45cd-94ad-0a216fff5a3a",
   "metadata": {},
   "outputs": [
    {
     "name": "stdin",
     "output_type": "stream",
     "text": [
      "Please input your years of experience 2\n",
      "Please input your age 5\n"
     ]
    },
    {
     "name": "stdout",
     "output_type": "stream",
     "text": [
      "Your annual tax revenue is 550,000\n"
     ]
    }
   ],
   "source": [
    "exp=int(input(\"Please input your years of experience\"))\n",
    "age=int(input(\"Please input your age\"))\n",
    "\n",
    "if exp > 25 and age >= 55:\n",
    "   print(\"Your annual tax revenue is 5,600,000\")\n",
    "elif exp >20 and age >=45:\n",
    "    print(\"Your annual tax revenue is 4,480,000\")\n",
    "elif exp >10 and age >=35:    \n",
    "    print(\"Your annual tax revenue is 1,500,000\")\n",
    "else:\n",
    "    print(\"Your annual tax revenue is 550,000\")"
   ]
  },
  {
   "cell_type": "code",
   "execution_count": null,
   "id": "51fb0893-6031-4892-9f9f-d04eabc43749",
   "metadata": {},
   "outputs": [],
   "source": []
  }
 ],
 "metadata": {
  "kernelspec": {
   "display_name": "Python 3 (ipykernel)",
   "language": "python",
   "name": "python3"
  },
  "language_info": {
   "codemirror_mode": {
    "name": "ipython",
    "version": 3
   },
   "file_extension": ".py",
   "mimetype": "text/x-python",
   "name": "python",
   "nbconvert_exporter": "python",
   "pygments_lexer": "ipython3",
   "version": "3.11.7"
  }
 },
 "nbformat": 4,
 "nbformat_minor": 5
}
