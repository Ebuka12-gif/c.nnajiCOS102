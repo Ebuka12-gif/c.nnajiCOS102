{
 "cells": [
  {
   "cell_type": "code",
   "execution_count": 5,
   "id": "9be048cf-ee60-4814-bbae-650808969fc6",
   "metadata": {},
   "outputs": [
    {
     "name": "stdout",
     "output_type": "stream",
     "text": [
      "2.08\n"
     ]
    }
   ],
   "source": [
    "p=2\n",
    "r=2\n",
    "t=2\n",
    "\n",
    "simple_interest=p * (1+(r/100)*t);\n",
    "print(simple_interest);"
   ]
  },
  {
   "cell_type": "code",
   "execution_count": 7,
   "id": "071837eb-4c03-4703-a789-43c35d001020",
   "metadata": {},
   "outputs": [
    {
     "name": "stdout",
     "output_type": "stream",
     "text": [
      "32.0\n"
     ]
    }
   ],
   "source": [
    "n=2\n",
    "p=2\n",
    "r=2\n",
    "t=2\n",
    "x=(r/n);\n",
    "y=(x+1);\n",
    "z=(n*t)\n",
    "f=(y**z);\n",
    "compound_interest=(p*f);\n",
    "print(compound_interest);"
   ]
  },
  {
   "cell_type": "code",
   "execution_count": 9,
   "id": "b375057f-48b1-4c3a-a95f-85deffe916fb",
   "metadata": {},
   "outputs": [
    {
     "name": "stdout",
     "output_type": "stream",
     "text": [
      "120.0\n"
     ]
    }
   ],
   "source": [
    "p=2\n",
    "m=2\n",
    "t=2\n",
    "r=2\n",
    "T=2\n",
    "n=2\n",
    "a=(p*m*T);\n",
    "b=(r/n);\n",
    "c=(b+1);\n",
    "d=(n*t);\n",
    "e=(c**d);\n",
    "f=(e-1);\n",
    "g=(f/b);\n",
    "annuity_plan=(a*g);\n",
    "print(annuity_plan);"
   ]
  },
  {
   "cell_type": "code",
   "execution_count": null,
   "id": "e66569e1-c8f8-4484-a3e0-a09f9f1cd96c",
   "metadata": {},
   "outputs": [],
   "source": []
  }
 ],
 "metadata": {
  "kernelspec": {
   "display_name": "Python 3 (ipykernel)",
   "language": "python",
   "name": "python3"
  },
  "language_info": {
   "codemirror_mode": {
    "name": "ipython",
    "version": 3
   },
   "file_extension": ".py",
   "mimetype": "text/x-python",
   "name": "python",
   "nbconvert_exporter": "python",
   "pygments_lexer": "ipython3",
   "version": "3.11.7"
  }
 },
 "nbformat": 4,
 "nbformat_minor": 5
}
