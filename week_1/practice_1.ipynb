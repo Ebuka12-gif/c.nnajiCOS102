{
 "cells": [
  {
   "cell_type": "code",
   "execution_count": 1,
   "id": "aadf33db-2059-4f1f-87fc-141bde8740a8",
   "metadata": {},
   "outputs": [
    {
     "name": "stdout",
     "output_type": "stream",
     "text": [
      "100\n",
      "Data Type of variable num is <class 'int'>\n"
     ]
    }
   ],
   "source": [
    "#Integer number\n",
    "num = 100\n",
    "print(num)\n",
    "print(\"Data Type of variable num is\", type(num))"
   ]
  },
  {
   "cell_type": "code",
   "execution_count": 2,
   "id": "982142f1-9102-40dc-a409-9ca60e14d17d",
   "metadata": {},
   "outputs": [
    {
     "name": "stdout",
     "output_type": "stream",
     "text": [
      "34.45\n",
      "Data Type of variable fnum is <class 'float'>\n"
     ]
    }
   ],
   "source": [
    "# float number\n",
    "fnum = 34.45\n",
    "print(fnum)\n",
    "print(\"Data Type of variable fnum is\", type(fnum))"
   ]
  },
  {
   "cell_type": "code",
   "execution_count": 3,
   "id": "5f1fd865-5142-42c2-a77d-357d92095e07",
   "metadata": {},
   "outputs": [
    {
     "name": "stdout",
     "output_type": "stream",
     "text": [
      "(3+4j)\n",
      "Data Type of variable cnum is <class 'complex'>\n"
     ]
    }
   ],
   "source": [
    "# complex number\n",
    "cnum = 3+4j\n",
    "print(cnum)\n",
    "print(\"Data Type of variable cnum is\",type(cnum))"
   ]
  },
  {
   "cell_type": "code",
   "execution_count": null,
   "id": "3b782b2f-0b39-4864-bc85-e60b864f0fd7",
   "metadata": {},
   "outputs": [],
   "source": []
  }
 ],
 "metadata": {
  "kernelspec": {
   "display_name": "Python 3 (ipykernel)",
   "language": "python",
   "name": "python3"
  },
  "language_info": {
   "codemirror_mode": {
    "name": "ipython",
    "version": 3
   },
   "file_extension": ".py",
   "mimetype": "text/x-python",
   "name": "python",
   "nbconvert_exporter": "python",
   "pygments_lexer": "ipython3",
   "version": "3.11.7"
  }
 },
 "nbformat": 4,
 "nbformat_minor": 5
}
