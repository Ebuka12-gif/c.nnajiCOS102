{
 "cells": [
  {
   "cell_type": "code",
   "execution_count": 27,
   "id": "29ffa970-cd41-4106-bd23-3ff7dc815631",
   "metadata": {},
   "outputs": [
    {
     "name": "stdout",
     "output_type": "stream",
     "text": [
      "Grocery store receipt\n",
      "item     amount     price\n",
      "bag        2        4000#\n",
      "bread      1        500#\n",
      "tissue     5        1000#\n",
      "\n",
      "total              5500#\n",
      "date       12/04/2024\n",
      "Thank you for patronising us\n"
     ]
    }
   ],
   "source": [
    "print(\"Grocery store receipt\")\n",
    "print(\"item     amount     price\\nbag        2        4000#\\nbread      1        500#\")\n",
    "print(\"tissue     5        1000#\\n\\ntotal              5500#\")\n",
    "print(\"date       12/04/2024\")\n",
    "print(\"Thank you for patronising us\")"
   ]
  },
  {
   "cell_type": "code",
   "execution_count": null,
   "id": "25c09666-5454-406f-a0bb-4c369f848b18",
   "metadata": {},
   "outputs": [],
   "source": []
  }
 ],
 "metadata": {
  "kernelspec": {
   "display_name": "Python 3 (ipykernel)",
   "language": "python",
   "name": "python3"
  },
  "language_info": {
   "codemirror_mode": {
    "name": "ipython",
    "version": 3
   },
   "file_extension": ".py",
   "mimetype": "text/x-python",
   "name": "python",
   "nbconvert_exporter": "python",
   "pygments_lexer": "ipython3",
   "version": "3.11.7"
  }
 },
 "nbformat": 4,
 "nbformat_minor": 5
}
