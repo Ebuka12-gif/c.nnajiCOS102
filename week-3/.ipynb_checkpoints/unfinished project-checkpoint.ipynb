{
 "cells": [
  {
   "cell_type": "code",
   "execution_count": 27,
   "id": "13fb0e51-786e-4c34-94e9-72365fd8695d",
   "metadata": {},
   "outputs": [
    {
     "ename": "SyntaxError",
     "evalue": "invalid syntax (1028697174.py, line 18)",
     "output_type": "error",
     "traceback": [
      "\u001b[1;36m  Cell \u001b[1;32mIn[27], line 18\u001b[1;36m\u001b[0m\n\u001b[1;33m    elif calc1 == 1:\u001b[0m\n\u001b[1;37m    ^\u001b[0m\n\u001b[1;31mSyntaxError\u001b[0m\u001b[1;31m:\u001b[0m invalid syntax\n"
     ]
    }
   ],
   "source": [
    "import numpy as np\n",
    "calc1 = input(\"please input the number of what you want to calculate\\n1) root of cubic equation\\n2) root of a quartic equation\\n3) root of a quadratic equation\\n\")\n",
    "if calc1 == 3:\n",
    "            def quadratic_solver(a, b, c):\n",
    "             d=((b**2) - (4*a*c))\n",
    "            x = (-b-np.sqrt(d))/(2*a)\n",
    "            y = (-b+np.sqrt(d))/(2*a)\n",
    "            return x , y\n",
    "\n",
    "print(\"please input your values (a,b,c)\") \n",
    "a = float(input(\"please input a: \\n\"))\n",
    "b = float(input(\"please input b: \\n\"))\n",
    "c = float(input(\"please input c: \\n\")) \n",
    "x , y = quadratic_solver(a , b , c)\n",
    "\n",
    "print(\"the roots of your quadratic equation are {} and {}\".format(x, y))\n",
    "\n",
    "elif calc1 == 1:\n",
    "          def solve_cubic_equation(a, b, c, d):\n",
    "          coeffs = [a, b, c, d]\n",
    "          roots = np.roots(coeffs)\n",
    "          return roots\n",
    "\n",
    "a = float(input(\"please input the coefficient of a:\\n\"))\n",
    "b = float(input(\"please input the coefficient of b:\\n\"))\n",
    "c = float(input(\"please input the coefficient of a:\\n\"))\n",
    "d = float(input(\"please input the coefficient of d:\\n\"))\n",
    "\n",
    "roots = solve_cubic_equation(a, b, c, d)\n",
    " print(\"the roots of the cubic equation are:\",roots)\n",
    "\n",
    "elif calc1 == 2:\n",
    "from sympy import Symbol, solve\n",
    "\n",
    "def solve_quartic(a, b, c, d, e):\n",
    "    # Define the variable\n",
    "    x = Symbol('x')\n",
    "    \n",
    "    # Define the quartic equation\n",
    "    equation = a * x*4 + b * x3 + c * x*2 + d * x + e\n",
    "    \n",
    "    # Solve the equation\n",
    "    solutions = solve(equation, x)\n",
    "    \n",
    "    return solutions\n",
    "\n",
    "# Example usage\n",
    "a = float(input(\"Enter the coefficient of x^4: \"))\n",
    "b = float(input(\"Enter the coefficient of x^3: \"))\n",
    "c = float(input(\"Enter the coefficient of x^2: \"))\n",
    "d = float(input(\"Enter the coefficient of x: \"))\n",
    "e = float(input(\"Enter the constant term: \"))\n",
    "\n",
    "solutions = solve_quartic(a, b, c, d, e)\n",
    "print(\"Solutions:\", solutions)"
   ]
  },
  {
   "cell_type": "code",
   "execution_count": null,
   "id": "f107f4af-cab7-41bf-89e1-51d59e7ac94f",
   "metadata": {},
   "outputs": [],
   "source": []
  },
  {
   "cell_type": "code",
   "execution_count": null,
   "id": "2f0a48d3-fd70-47f8-b047-ae28219da4a0",
   "metadata": {},
   "outputs": [],
   "source": []
  },
  {
   "cell_type": "code",
   "execution_count": null,
   "id": "ca8ec5c6-4666-46dd-b8ed-5b41f6d0e11a",
   "metadata": {},
   "outputs": [],
   "source": []
  }
 ],
 "metadata": {
  "kernelspec": {
   "display_name": "Python 3 (ipykernel)",
   "language": "python",
   "name": "python3"
  },
  "language_info": {
   "codemirror_mode": {
    "name": "ipython",
    "version": 3
   },
   "file_extension": ".py",
   "mimetype": "text/x-python",
   "name": "python",
   "nbconvert_exporter": "python",
   "pygments_lexer": "ipython3",
   "version": "3.11.7"
  }
 },
 "nbformat": 4,
 "nbformat_minor": 5
}
