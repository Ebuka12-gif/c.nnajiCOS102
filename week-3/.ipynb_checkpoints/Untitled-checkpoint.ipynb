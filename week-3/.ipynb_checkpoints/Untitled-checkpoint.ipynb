{
 "cells": [
  {
   "cell_type": "code",
   "execution_count": 77,
   "id": "13fb0e51-786e-4c34-94e9-72365fd8695d",
   "metadata": {},
   "outputs": [
    {
     "name": "stdin",
     "output_type": "stream",
     "text": [
      "please input the number of what you want to calculate\n",
      "1) root of cubic equation\n",
      "2) root of a quartic equation\n",
      "3) root of a quadratic equation\n",
      " 3\n"
     ]
    },
    {
     "name": "stdout",
     "output_type": "stream",
     "text": [
      "root of cubic equation\n",
      "please input your values (a,b,c)\n"
     ]
    },
    {
     "name": "stdin",
     "output_type": "stream",
     "text": [
      "please input a\n",
      " 3\n",
      "please input b\n",
      " 4\n",
      "please input c\n",
      " 3\n"
     ]
    },
    {
     "ename": "NameError",
     "evalue": "name 'let' is not defined",
     "output_type": "error",
     "traceback": [
      "\u001b[1;31m---------------------------------------------------------------------------\u001b[0m",
      "\u001b[1;31mNameError\u001b[0m                                 Traceback (most recent call last)",
      "Cell \u001b[1;32mIn[77], line 7\u001b[0m\n\u001b[0;32m      5\u001b[0m bx \u001b[38;5;241m=\u001b[39m \u001b[38;5;28minput\u001b[39m(\u001b[38;5;124m\"\u001b[39m\u001b[38;5;124mplease input b\u001b[39m\u001b[38;5;130;01m\\n\u001b[39;00m\u001b[38;5;124m\"\u001b[39m)\n\u001b[0;32m      6\u001b[0m cx \u001b[38;5;241m=\u001b[39m \u001b[38;5;28minput\u001b[39m(\u001b[38;5;124m\"\u001b[39m\u001b[38;5;124mplease input c\u001b[39m\u001b[38;5;130;01m\\n\u001b[39;00m\u001b[38;5;124m\"\u001b[39m)    \n\u001b[1;32m----> 7\u001b[0m let (t) \u001b[38;5;241m==\u001b[39m (bx);\n\u001b[0;32m      8\u001b[0m y\u001b[38;5;241m=\u001b[39mt\u001b[38;5;241m*\u001b[39m\u001b[38;5;241m*\u001b[39m\u001b[38;5;241m2\u001b[39m\n\u001b[0;32m      9\u001b[0m \u001b[38;5;28mprint\u001b[39m(n)\n",
      "\u001b[1;31mNameError\u001b[0m: name 'let' is not defined"
     ]
    }
   ],
   "source": [
    "calc = input(\"please input the number of what you want to calculate\\n1) root of cubic equation\\n2) root of a quartic equation\\n3) root of a quadratic equation\\n\")\n",
    "if calc == (\"3\"):print(\"root of cubic equation\")\n",
    "print(\"please input your values (a,b,c)\") \n",
    "ax = input(\"please input a\\n\")\n",
    "bx = input(\"please input b\\n\")\n",
    "cx = input(\"please input c\\n\")    \n",
    "let (t) == (bx);\n",
    "y=t**2\n",
    "print(n)\n",
    "\n",
    "\n"
   ]
  },
  {
   "cell_type": "code",
   "execution_count": null,
   "id": "f107f4af-cab7-41bf-89e1-51d59e7ac94f",
   "metadata": {},
   "outputs": [],
   "source": []
  },
  {
   "cell_type": "code",
   "execution_count": null,
   "id": "2f0a48d3-fd70-47f8-b047-ae28219da4a0",
   "metadata": {},
   "outputs": [],
   "source": []
  }
 ],
 "metadata": {
  "kernelspec": {
   "display_name": "Python 3 (ipykernel)",
   "language": "python",
   "name": "python3"
  },
  "language_info": {
   "codemirror_mode": {
    "name": "ipython",
    "version": 3
   },
   "file_extension": ".py",
   "mimetype": "text/x-python",
   "name": "python",
   "nbconvert_exporter": "python",
   "pygments_lexer": "ipython3",
   "version": "3.11.7"
  }
 },
 "nbformat": 4,
 "nbformat_minor": 5
}
