{
 "cells": [
  {
   "cell_type": "code",
   "execution_count": 3,
   "id": "bd092ba2-6a85-4ef1-a358-0aea20abb5b5",
   "metadata": {},
   "outputs": [
    {
     "name": "stdin",
     "output_type": "stream",
     "text": [
      "Please input the number of what you want to calculate\n",
      "1) Root of a cubic equation\n",
      "2) Root of a quartic equation\n",
      "3) Root of a quadratic equation\n",
      " 3\n"
     ]
    },
    {
     "name": "stdout",
     "output_type": "stream",
     "text": [
      "Please input your values (a, b, c)\n"
     ]
    },
    {
     "name": "stdin",
     "output_type": "stream",
     "text": [
      "Please input a:  1\n",
      "Please input b:  -11\n",
      "Please input c:  28\n"
     ]
    },
    {
     "name": "stdout",
     "output_type": "stream",
     "text": [
      "The roots of your quadratic equation are 4.0 and 7.0\n"
     ]
    }
   ],
   "source": [
    "import numpy as np\n",
    "from sympy import Symbol, solve\n",
    "\n",
    "def quadratic_solver(a, b, c):\n",
    "    d = ((b ** 2) - (4 * a * c))\n",
    "    x = (-b - np.sqrt(d)) / (2 * a)\n",
    "    y = (-b + np.sqrt(d)) / (2 * a)\n",
    "    return x, y\n",
    "\n",
    "def solve_cubic_equation(a, b, c, d):\n",
    "    coeffs = [a, b, c, d]\n",
    "    roots = np.roots(coeffs)\n",
    "    return roots\n",
    "\n",
    "def solve_quartic(a, b, c, d, e):\n",
    "    # Define the variable\n",
    "    x = Symbol('x')\n",
    "\n",
    "    # Define the quartic equation\n",
    "    equation = a * x**4 + b * x**3 + c * x**2 + d * x + e\n",
    "\n",
    "    # Solve the equation\n",
    "    solutions = solve(equation, x)\n",
    "\n",
    "    return solutions\n",
    "\n",
    "calc1 = int(input(\"Please input the number of what you want to calculate\\n1) Root of a cubic equation\\n2) Root of a quartic equation\\n3) Root of a quadratic equation\\n\"))\n",
    "\n",
    "if calc1 == 3:\n",
    "    print(\"Please input your values (a, b, c)\")\n",
    "    a = float(input(\"Please input a: \"))\n",
    "    b = float(input(\"Please input b: \"))\n",
    "    c = float(input(\"Please input c: \"))\n",
    "    x, y = quadratic_solver(a, b, c)\n",
    "    print(\"The roots of your quadratic equation are {} and {}\".format(x, y))\n",
    "\n",
    "elif calc1 == 1:\n",
    "    print(\"Please input your values (a, b, c, d)\")\n",
    "    a = float(input(\"Please input the coefficient of a: \"))\n",
    "    b = float(input(\"Please input the coefficient of b: \"))\n",
    "    c = float(input(\"Please input the coefficient of c: \"))\n",
    "    d = float(input(\"Please input the coefficient of d: \"))\n",
    "    roots = solve_cubic_equation(a, b, c, d)\n",
    "    print(\"The roots of the cubic equation are:\", roots)\n",
    "\n",
    "elif calc1 == 2:\n",
    "    print(\"Please input your values (a, b, c, d, e)\")\n",
    "    a = float(input(\"Enter the coefficient of x^4: \"))\n",
    "    b = float(input(\"Enter the coefficient of x^3: \"))\n",
    "    c = float(input(\"Enter the coefficient of x^2: \"))\n",
    "    d = float(input(\"Enter the coefficient of x: \"))\n",
    "    e = float(input(\"Enter the constant term: \"))\n",
    "    solutions = solve_quartic(a, b, c, d, e)\n",
    "    print(\"Solutions:\", solutions)\n",
    "else:\n",
    "    print(\"Invalid input. Please choose a number between 1 and 3.\")\n"
   ]
  },
  {
   "cell_type": "code",
   "execution_count": null,
   "id": "5b52cd26-6126-473c-b637-67d70d06e1c2",
   "metadata": {},
   "outputs": [],
   "source": []
  }
 ],
 "metadata": {
  "kernelspec": {
   "display_name": "Python 3 (ipykernel)",
   "language": "python",
   "name": "python3"
  },
  "language_info": {
   "codemirror_mode": {
    "name": "ipython",
    "version": 3
   },
   "file_extension": ".py",
   "mimetype": "text/x-python",
   "name": "python",
   "nbconvert_exporter": "python",
   "pygments_lexer": "ipython3",
   "version": "3.11.7"
  }
 },
 "nbformat": 4,
 "nbformat_minor": 5
}
