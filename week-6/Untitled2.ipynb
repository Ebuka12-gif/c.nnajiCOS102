{
 "cells": [
  {
   "cell_type": "code",
   "execution_count": 2,
   "id": "57ab54f8-28ac-49d8-8dfd-a922553e592b",
   "metadata": {},
   "outputs": [
    {
     "name": "stdout",
     "output_type": "stream",
     "text": [
      "Welcome to the PAU portal\n"
     ]
    },
    {
     "name": "stdin",
     "output_type": "stream",
     "text": [
      "Please input your name:  ff\n",
      "Please what course do you want to study here.\n",
      "Input 1 for Computer Science.\n",
      "Input 2 for Mass Communication:  2\n",
      "Please input your JAMB score:  350\n",
      "Please input your Math score:  70\n",
      "Please input your English score:  70\n",
      "Please input your Journalism score:  70\n",
      "Please input your Government score:  70\n",
      "Please input your CRS score:  70\n"
     ]
    },
    {
     "name": "stdout",
     "output_type": "stream",
     "text": [
      "You are admitted into the school\n"
     ]
    }
   ],
   "source": [
    "def computer_science(math, english, physics, computer, dataprocessing, jamb, name):\n",
    "    if 50 <= math <= 100 and 50 <= english <= 100 and 50 <= physics <= 100 and 50 <= computer <= 100 and 50 <= dataprocessing <= 100 and 250 <= jamb <= 400:\n",
    "        return \"{} You are admitted into the school\".format(name)\n",
    "    else:\n",
    "        return \"You are not admitted to the school\"\n",
    "\n",
    "def mass_communication(math, english, journalism, government, crs, jamb):\n",
    "    if 50 <= math <= 100 and 50 <= english <= 100 and 50 <= journalism <= 100 and 50 <= government <= 100 and 50 <= crs <= 100 and 230 <= jamb <= 400:\n",
    "        return \"You are admitted into the school\"\n",
    "    else:\n",
    "        return \"You are not admitted to the school\"\n",
    "\n",
    "print(\"Welcome to the PAU portal\")\n",
    "name = str(input(\"Please input your name: \"))  # Close the parenthesis here\n",
    "course = int(input(\"Please what course do you want to study here.\\nInput 1 for Computer Science.\\nInput 2 for Mass Communication: \"))\n",
    "jamb = int(input(\"Please input your JAMB score: \"))\n",
    "\n",
    "if course == 1:\n",
    "    math = int(input(\"Please input your Math score: \"))\n",
    "    english = int(input(\"Please input your English score: \"))\n",
    "    physics = int(input(\"Please input your Physics score: \"))\n",
    "    computer = int(input(\"Please input your Computer score: \"))\n",
    "    dataprocessing = int(input(\"Please input your Data Processing score: \"))\n",
    "    result = computer_science(math, english, physics, computer, dataprocessing, jamb, name)\n",
    "    print(result)\n",
    "elif course == 2:\n",
    "    math = int(input(\"Please input your Math score: \"))\n",
    "    english = int(input(\"Please input your English score: \"))\n",
    "    journalism = int(input(\"Please input your Journalism score: \"))\n",
    "    government = int(input(\"Please input your Government score: \"))\n",
    "    crs = int(input(\"Please input your CRS score: \"))\n",
    "    result = mass_communication(math, english, journalism, government, crs, jamb)\n",
    "    print(result)\n",
    "else:\n",
    "    print(\"Invalid input. Please input 1 or 2 for the course.\")\n"
   ]
  },
  {
   "cell_type": "code",
   "execution_count": null,
   "id": "c22adafd-ce82-4a3b-9181-07ee53c11d96",
   "metadata": {},
   "outputs": [],
   "source": []
  }
 ],
 "metadata": {
  "kernelspec": {
   "display_name": "Python 3 (ipykernel)",
   "language": "python",
   "name": "python3"
  },
  "language_info": {
   "codemirror_mode": {
    "name": "ipython",
    "version": 3
   },
   "file_extension": ".py",
   "mimetype": "text/x-python",
   "name": "python",
   "nbconvert_exporter": "python",
   "pygments_lexer": "ipython3",
   "version": "3.11.7"
  }
 },
 "nbformat": 4,
 "nbformat_minor": 5
}
