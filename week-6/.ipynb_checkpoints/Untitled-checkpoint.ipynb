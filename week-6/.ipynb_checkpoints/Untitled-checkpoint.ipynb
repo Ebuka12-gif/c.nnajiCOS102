{
 "cells": [
  {
   "cell_type": "code",
   "execution_count": 28,
   "id": "5597a9c7-7ec1-45d8-9985-e8feb738da6e",
   "metadata": {},
   "outputs": [
    {
     "name": "stdout",
     "output_type": "stream",
     "text": [
      "Welcome to Simi Services\n"
     ]
    },
    {
     "name": "stdin",
     "output_type": "stream",
     "text": [
      "Input 1 if your package is above 10KG\n",
      "Input 2 if your package is below 10KG\n",
      " 2\n",
      "Input 1 if your package is going to Ibeju Lekki\n",
      "Input 2 if your package is going to Epe\n",
      " 9\n"
     ]
    },
    {
     "name": "stdout",
     "output_type": "stream",
     "text": [
      "Invalid input try again\n"
     ]
    }
   ],
   "source": [
    "print(\"Welcome to Simi Services\")\n",
    "weight = int(input(\"Input 1 if your package is above 10KG\\nInput 2 if your package is below 10KG\\n\"))\n",
    "location = int(input(\"Input 1 if your package is going to Ibeju Lekki\\nInput 2 if your package is going to Epe\\n\"))\n",
    "if weight ==1 and location == 1:\n",
    "    print(\"Your bill is 5000$\")\n",
    "elif weight ==1 and location == 2:\n",
    "    print(\"Your bill is 10000$\")    \n",
    "elif weight ==2 and location == 1:\n",
    "    print(\"Your bill is 3500$\")    \n",
    "elif weight ==2 and location == 2:\n",
    "    print(\"Your bill is 5000$\")   \n",
    "else:\n",
    "    print(\"Invalid input try again\")\n",
    "     "
   ]
  },
  {
   "cell_type": "code",
   "execution_count": null,
   "id": "6d90128c-c575-43e5-9206-9f2eafc6f0de",
   "metadata": {},
   "outputs": [],
   "source": []
  },
  {
   "cell_type": "code",
   "execution_count": null,
   "id": "558ec4a2-5e12-442a-8b64-a6c9ff9f32fa",
   "metadata": {},
   "outputs": [],
   "source": []
  }
 ],
 "metadata": {
  "kernelspec": {
   "display_name": "Python 3 (ipykernel)",
   "language": "python",
   "name": "python3"
  },
  "language_info": {
   "codemirror_mode": {
    "name": "ipython",
    "version": 3
   },
   "file_extension": ".py",
   "mimetype": "text/x-python",
   "name": "python",
   "nbconvert_exporter": "python",
   "pygments_lexer": "ipython3",
   "version": "3.11.7"
  }
 },
 "nbformat": 4,
 "nbformat_minor": 5
}
