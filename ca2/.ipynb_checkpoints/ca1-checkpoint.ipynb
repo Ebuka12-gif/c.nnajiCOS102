{
 "cells": [
  {
   "cell_type": "code",
   "execution_count": 148,
   "id": "52209a98-13a6-41b2-94f9-853d4a7cc86e",
   "metadata": {},
   "outputs": [
    {
     "name": "stdin",
     "output_type": "stream",
     "text": [
      "Welcome to the PAU cafeteria.\n",
      "What would you like to order(Use their corresponding numbers to make your order):  7\n"
     ]
    },
    {
     "name": "stdout",
     "output_type": "stream",
     "text": [
      "fried fish\n",
      "500\n"
     ]
    },
    {
     "name": "stdin",
     "output_type": "stream",
     "text": [
      "How many would you like to order:  2\n",
      "Would you like to order anything else? (yes/no):  yes\n",
      "Welcome to the PAU cafeteria.\n",
      "What would you like to order(Use their corresponding numbers to make your order):  3\n"
     ]
    },
    {
     "name": "stdout",
     "output_type": "stream",
     "text": [
      "jollof spaghetti\n",
      "350\n"
     ]
    },
    {
     "name": "stdin",
     "output_type": "stream",
     "text": [
      "How many would you like to order:  3\n",
      "Would you like to order anything else? (yes/no):  yes\n",
      "Welcome to the PAU cafeteria.\n",
      "What would you like to order(Use their corresponding numbers to make your order):  9\n"
     ]
    },
    {
     "name": "stdout",
     "output_type": "stream",
     "text": [
      "sauteed sausages\n",
      "200\n"
     ]
    },
    {
     "name": "stdin",
     "output_type": "stream",
     "text": [
      "How many would you like to order:  3\n",
      "Would you like to order anything else? (yes/no):  no\n"
     ]
    },
    {
     "name": "stdout",
     "output_type": "stream",
     "text": [
      "Your order:\n",
      "2 fried fish: $1000\n",
      "3 jollof spaghetti: $1050\n",
      "3 sauteed sausages: $600\n",
      "Total price after discount: $2252.5\n"
     ]
    }
   ],
   "source": [
    "items = [\"jollof rice\", \"coconut fried rice\", \"jollof spaghetti\", \"sweet chili chicken\", \"grilled chicken wings\", \"fried beef\", \"fried fish\", \"boiled egg\", \"sauteed sausages\", \"savoury beans\", \"roasted sweet potatoes\", \"fried plantains\", \"mixed vegetable salad\", \"boiled yam\", \"eba\", \"poundo yam\", \"sermo\", \"alama soup\", \"egusi soup\", \"water\", \"glass drink[55cl]\", \"pet drink[35cl]\", \"pet drink[50cl]\", \"glass/canned malt\", \"fresh yo\", \"pineapple juice\", \"mango juice\", \"zubo drink\"]\n",
    "prices = [350, 350, 350, 1100, 400, 400, 500, 200, 200, 350, 300, 150, 150, 150, 100, 100, 100, 450, 480, 200, 150, 300, 500, 500, 600, 350, 350, 350]\n",
    "\n",
    "def place_order():\n",
    "    order = int(input(\"Welcome to the PAU cafeteria.\\nWhat would you like to order(Use their corresponding numbers to make your order): \"))\n",
    "    nameitem = items[order-1]\n",
    "    itemprice = prices[order-1]\n",
    "    print(nameitem) \n",
    "    print(itemprice)\n",
    "    multiple = int(input(\"How many would you like to order: \"))\n",
    "    return nameitem, itemprice, multiple\n",
    "\n",
    "order_items = []\n",
    "total_price = 0\n",
    "\n",
    "while True:\n",
    "    nameitem, itemprice, multiple = place_order()\n",
    "    total_price += itemprice * multiple\n",
    "    order_items.append((nameitem, itemprice, multiple))\n",
    "    question = input(\"Would you like to order anything else? (yes/no): \")\n",
    "    if question.lower() == \"no\":\n",
    "        break\n",
    "    elif question.lower() == \"yes\":\n",
    "        continue\n",
    "    else:\n",
    "        print(\"invalid input\")\n",
    "        break\n",
    "\n",
    "discount = 0\n",
    "if total_price < 1000:\n",
    "   discount = total_price * 0\n",
    "elif 1000 < total_price <= 2500:\n",
    "    discount = total_price * 0.1\n",
    "elif 2500 < total_price < 5000:\n",
    "    discount = total_price * 0.15\n",
    "else:\n",
    "    discount = total_price * 0.25\n",
    "\n",
    "total_price -= discount\n",
    "\n",
    "print(\"Your order:\")\n",
    "for item in order_items:\n",
    "    print(f\"{item[2]} {item[0]}: ${item[1] * item[2]}\")\n",
    "\n",
    "print(f\"Total price after discount: ${total_price}\")\n"
   ]
  },
  {
   "cell_type": "code",
   "execution_count": null,
   "id": "d9f69055-d48b-46d7-a42e-c035e01c7d3c",
   "metadata": {},
   "outputs": [],
   "source": []
  },
  {
   "cell_type": "code",
   "execution_count": null,
   "id": "7203c27f-e5d6-4444-93a4-a482844c8833",
   "metadata": {},
   "outputs": [],
   "source": []
  },
  {
   "cell_type": "code",
   "execution_count": null,
   "id": "cb5a1d6a-9dcc-46ed-959e-cdc87048c87e",
   "metadata": {},
   "outputs": [],
   "source": []
  }
 ],
 "metadata": {
  "kernelspec": {
   "display_name": "Python 3 (ipykernel)",
   "language": "python",
   "name": "python3"
  },
  "language_info": {
   "codemirror_mode": {
    "name": "ipython",
    "version": 3
   },
   "file_extension": ".py",
   "mimetype": "text/x-python",
   "name": "python",
   "nbconvert_exporter": "python",
   "pygments_lexer": "ipython3",
   "version": "3.11.7"
  }
 },
 "nbformat": 4,
 "nbformat_minor": 5
}
