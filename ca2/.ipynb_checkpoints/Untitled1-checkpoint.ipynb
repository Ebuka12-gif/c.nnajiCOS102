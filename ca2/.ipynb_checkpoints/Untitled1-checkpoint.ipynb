{
 "cells": [
  {
   "cell_type": "code",
   "execution_count": 7,
   "id": "b516e952-96c0-4ebf-8727-10f67487869a",
   "metadata": {},
   "outputs": [
    {
     "name": "stdout",
     "output_type": "stream",
     "text": [
      "RICE/PASTA          PRICE($)                      PROTEINS              PRICE($)\n",
      "[1]Jollof Rice:        350                        [4]Sweet Chili Chicken:  1100\n",
      "[2]Cocunut Fired Rice: 350                        [5]Grilled Chicken Wings: 400\n",
      "[3]Jollof Spaghetti:   350                        [6]Fried Beef:            400\n",
      "                                                  [7]Fried Fish:            500\n",
      "                                                  [8]Boiled Egg:            200\n",
      "                                                  [9]Sauteed Sausages:      200\n",
      "\n",
      "\n",
      "                           SIDE DISHES              PRICE($)\n",
      "                           [10]Savoury beans:           350\n",
      "                           [11]Roasted Sweet Potatoes:  300\n",
      "                           [12]Fried Plantains:         150\n",
      "                           [13]Mixed Vegetable Salad:   150\n",
      "                           [14]Boiled Yam:              150\n",
      "\n",
      "\n",
      "SOUPS & SWALLOW        PRICE($)             BEVERAGES            PRICE($)\n",
      "[15]Eba:                   100               [20]Water:               200\n",
      "[16]Poundo Yam:            100               [21]Glass Drink[55cl]:   150\n",
      "[17]Sermo:                 100               [22]PET Drink[35cl]:     300\n",
      "[18]Alama Soup:            450               [23]PET Drink[50cl]:     500\n",
      "[19]Egusi Soup:            480               [24]Glass/Canned Malt:   500\n",
      "                                             [25]Fresh Yo:            600\n",
      "                                             [26]Pineapple Juice:     350\n",
      "                                             [27]Mango Juice:         350\n",
      "                                             [28]Zubo Drink:          350\n"
     ]
    },
    {
     "name": "stdin",
     "output_type": "stream",
     "text": [
      "Welcome to the PAU cafeteria.\n",
      "What would you like to order(Use their corresponding numbers to make your order):  2\n"
     ]
    },
    {
     "name": "stdout",
     "output_type": "stream",
     "text": [
      "coconut fried rice\n",
      "350\n"
     ]
    },
    {
     "name": "stdin",
     "output_type": "stream",
     "text": [
      "How many would you like to order:  2\n",
      "Would you like to order anything else? (yes/no):  jd\n"
     ]
    },
    {
     "name": "stdout",
     "output_type": "stream",
     "text": [
      "invalid input\n",
      "Your order:\n",
      "2 coconut fried rice: $700\n",
      "Total price: $700\n"
     ]
    }
   ],
   "source": [
    "items = [\"jollof rice\", \"coconut fried rice\", \"jollof spaghetti\", \"sweet chili chicken\", \"grilled chicken wings\", \"fried beef\", \"fried fish\", \"boiled egg\", \"sauteed sausages\", \"savoury beans\", \"roasted sweet potatoes\", \"fried plantains\", \"mixed vegetable salad\", \"boiled yam\", \"eba\", \"poundo yam\", \"sermo\", \"alama soup\", \"egusi soup\", \"water\", \"glass drink[55cl]\", \"pet drink[35cl]\", \"pet drink[50cl]\", \"glass/canned malt\", \"fresh yo\", \"pineapple juice\", \"mango juice\", \"zubo drink\"]\n",
    "prices = [350, 350, 350, 1100, 400, 400, 500, 200, 200, 350, 300, 150, 150, 150, 100, 100, 100, 450, 480, 200, 150, 300, 500, 500, 600, 350, 350, 350]\n",
    "\n",
    "print(\"RICE/PASTA          PRICE($)                      PROTEINS              PRICE($)\\n[1]Jollof Rice:        350                        [4]Sweet Chili Chicken:  1100\\n[2]Cocunut Fired Rice: 350                        [5]Grilled Chicken Wings: 400\\n[3]Jollof Spaghetti:   350                        [6]Fried Beef:            400\\n                                                  [7]Fried Fish:            500\\n                                                  [8]Boiled Egg:            200\\n                                                  [9]Sauteed Sausages:      200\\n\\n\")\n",
    "print(\"                           SIDE DISHES              PRICE($)\\n                           [10]Savoury beans:           350\\n                           [11]Roasted Sweet Potatoes:  300\\n                           [12]Fried Plantains:         150\\n                           [13]Mixed Vegetable Salad:   150\\n                           [14]Boiled Yam:              150\\n\\n\")\n",
    "print(\"SOUPS & SWALLOW        PRICE($)             BEVERAGES            PRICE($)\\n[15]Eba:                   100               [20]Water:               200\\n[16]Poundo Yam:            100               [21]Glass Drink[55cl]:   150\\n[17]Sermo:                 100               [22]PET Drink[35cl]:     300\\n[18]Alama Soup:            450               [23]PET Drink[50cl]:     500\\n[19]Egusi Soup:            480               [24]Glass/Canned Malt:   500\\n                                             [25]Fresh Yo:            600\\n                                             [26]Pineapple Juice:     350\\n                                             [27]Mango Juice:         350\\n                                             [28]Zubo Drink:          350\")\n",
    "\n",
    "def place_order():\n",
    "    order = int(input(\"Welcome to the PAU cafeteria.\\nWhat would you like to order(Use their corresponding numbers to make your order): \"))\n",
    "    nameitem = items[order-1]\n",
    "    itemprice = prices[order-1]\n",
    "    print(nameitem) \n",
    "    print(itemprice)\n",
    "    multiple = int(input(\"How many would you like to order: \"))\n",
    "    return nameitem, itemprice, multiple\n",
    "\n",
    "order_items = []\n",
    "total_price = 0\n",
    "\n",
    "while True:\n",
    "    nameitem, itemprice, multiple = place_order()\n",
    "    total_price += itemprice * multiple\n",
    "    order_items.append((nameitem, itemprice, multiple))\n",
    "    question = input(\"Would you like to order anything else? (yes/no): \")\n",
    "    if question.lower() == \"no\":\n",
    "        break\n",
    "    elif question.lower() == \"yes\":\n",
    "        continue\n",
    "    else:\n",
    "        print(\"invalid input\")\n",
    "        break\n",
    "\n",
    "print(\"Your order:\")\n",
    "for item in order_items:\n",
    "    print(f\"{item[2]} {item[0]}: ${item[1] * item[2]}\")\n",
    "\n",
    "print(f\"Total price: ${total_price}\")\n"
   ]
  },
  {
   "cell_type": "code",
   "execution_count": null,
   "id": "96aa70f6-82df-4700-af74-f464007e71c8",
   "metadata": {},
   "outputs": [],
   "source": []
  },
  {
   "cell_type": "code",
   "execution_count": null,
   "id": "835c3422-0073-4d28-8171-e93a134b2b7b",
   "metadata": {},
   "outputs": [],
   "source": []
  }
 ],
 "metadata": {
  "kernelspec": {
   "display_name": "Python 3 (ipykernel)",
   "language": "python",
   "name": "python3"
  },
  "language_info": {
   "codemirror_mode": {
    "name": "ipython",
    "version": 3
   },
   "file_extension": ".py",
   "mimetype": "text/x-python",
   "name": "python",
   "nbconvert_exporter": "python",
   "pygments_lexer": "ipython3",
   "version": "3.11.7"
  }
 },
 "nbformat": 4,
 "nbformat_minor": 5
}
